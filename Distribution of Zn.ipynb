{
 "cells": [
  {
   "cell_type": "code",
   "execution_count": 52,
   "metadata": {},
   "outputs": [
    {
     "name": "stderr",
     "output_type": "stream",
     "text": [
      "also installing the dependencies 'ggformula', 'mosaicData', 'mosaicCore', 'latticeExtra', 'ggdendro', 'gridExtra', 'mosaic'\n",
      "\n"
     ]
    },
    {
     "name": "stdout",
     "output_type": "stream",
     "text": [
      "package 'ggformula' successfully unpacked and MD5 sums checked\n",
      "package 'mosaicData' successfully unpacked and MD5 sums checked\n",
      "package 'mosaicCore' successfully unpacked and MD5 sums checked\n",
      "package 'latticeExtra' successfully unpacked and MD5 sums checked\n",
      "package 'ggdendro' successfully unpacked and MD5 sums checked\n",
      "package 'gridExtra' successfully unpacked and MD5 sums checked\n",
      "package 'mosaic' successfully unpacked and MD5 sums checked\n",
      "package 'statisticalModeling' successfully unpacked and MD5 sums checked\n",
      "\n",
      "The downloaded binary packages are in\n",
      "\tC:\\Users\\f.delgado.licona\\AppData\\Local\\Temp\\RtmpQH8N65\\downloaded_packages\n"
     ]
    }
   ],
   "source": [
    "install.packages(\"statisticalModeling\",repos='http://cran.us.r-project.org')"
   ]
  },
  {
   "cell_type": "code",
   "execution_count": 61,
   "metadata": {},
   "outputs": [
    {
     "name": "stdout",
     "output_type": "stream",
     "text": [
      "package 'rpart.plot' successfully unpacked and MD5 sums checked\n",
      "\n",
      "The downloaded binary packages are in\n",
      "\tC:\\Users\\f.delgado.licona\\AppData\\Local\\Temp\\RtmpQH8N65\\downloaded_packages\n"
     ]
    }
   ],
   "source": [
    "install.packages(\"rpart.plot\",repos='http://cran.us.r-project.org')"
   ]
  },
  {
   "cell_type": "code",
   "execution_count": 91,
   "metadata": {},
   "outputs": [],
   "source": [
    "library(statisticalModeling)"
   ]
  },
  {
   "cell_type": "code",
   "execution_count": 92,
   "metadata": {
    "collapsed": true
   },
   "outputs": [],
   "source": [
    "library(rpart.plot)"
   ]
  },
  {
   "cell_type": "code",
   "execution_count": 172,
   "metadata": {},
   "outputs": [
    {
     "name": "stderr",
     "output_type": "stream",
     "text": [
      "\n",
      "Attaching package: 'dplyr'\n",
      "\n",
      "The following objects are masked from 'package:stats':\n",
      "\n",
      "    filter, lag\n",
      "\n",
      "The following objects are masked from 'package:base':\n",
      "\n",
      "    intersect, setdiff, setequal, union\n",
      "\n"
     ]
    }
   ],
   "source": [
    "library(dplyr)"
   ]
  },
  {
   "cell_type": "code",
   "execution_count": 93,
   "metadata": {
    "collapsed": true
   },
   "outputs": [],
   "source": [
    "library(rpart)"
   ]
  },
  {
   "cell_type": "code",
   "execution_count": 94,
   "metadata": {},
   "outputs": [],
   "source": [
    "library(ggplot2)"
   ]
  },
  {
   "cell_type": "code",
   "execution_count": 95,
   "metadata": {},
   "outputs": [],
   "source": [
    "ratio = c(2, 2,4,5,8,10,10,10,20) \n",
    "M = c(0.25,0.5,0.25,0.07,0.25,0.25,0.1,0.5,0.0125) \n",
    "pH = c(10.43,10.37,13.02,12.98,14,14.17,13.78,13.5,13.3) \n",
    "OH1 <- c(5.19,4.46,0,0,0,0,0,0,0)\n",
    "OH2 <- c(89.67,91.05,1.75,2.34,0.02,0.01,0.08,0.31,0.74)\n",
    "OH3 <- c(5.09,4.44,38.21,42.14,6.34,4.54,9.81,18.41,27.32)\n",
    "OH4 <- c(0.02,0.02,60.04,55.52,93.64,95.45,90.11,81.28,71.94)\n",
    "morph <- c(\"SSF\", \"SSF\", \"OSF\", \"OSF\", \"RF\", \"R\", \"RF\",\"RF\",\"RF\")\n",
    "morph <- as.factor(morph)\n",
    "df = data.frame(ratio, M, pH, OH1, OH2, OH3, OH4, morph)\n"
   ]
  },
  {
   "cell_type": "code",
   "execution_count": 96,
   "metadata": {},
   "outputs": [
    {
     "data": {
      "text/html": [
       "<table>\n",
       "<thead><tr><th scope=col>ratio</th><th scope=col>M</th><th scope=col>pH</th><th scope=col>OH1</th><th scope=col>OH2</th><th scope=col>OH3</th><th scope=col>OH4</th><th scope=col>morph</th></tr></thead>\n",
       "<tbody>\n",
       "\t<tr><td> 2    </td><td>0.2500</td><td>10.43 </td><td>5.19  </td><td>89.67 </td><td> 5.09 </td><td> 0.02 </td><td>SSF   </td></tr>\n",
       "\t<tr><td> 2    </td><td>0.5000</td><td>10.37 </td><td>4.46  </td><td>91.05 </td><td> 4.44 </td><td> 0.02 </td><td>SSF   </td></tr>\n",
       "\t<tr><td> 4    </td><td>0.2500</td><td>13.02 </td><td>0.00  </td><td> 1.75 </td><td>38.21 </td><td>60.04 </td><td>OSF   </td></tr>\n",
       "\t<tr><td> 5    </td><td>0.0700</td><td>12.98 </td><td>0.00  </td><td> 2.34 </td><td>42.14 </td><td>55.52 </td><td>OSF   </td></tr>\n",
       "\t<tr><td> 8    </td><td>0.2500</td><td>14.00 </td><td>0.00  </td><td> 0.02 </td><td> 6.34 </td><td>93.64 </td><td>RF    </td></tr>\n",
       "\t<tr><td>10    </td><td>0.2500</td><td>14.17 </td><td>0.00  </td><td> 0.01 </td><td> 4.54 </td><td>95.45 </td><td>R     </td></tr>\n",
       "\t<tr><td>10    </td><td>0.1000</td><td>13.78 </td><td>0.00  </td><td> 0.08 </td><td> 9.81 </td><td>90.11 </td><td>RF    </td></tr>\n",
       "\t<tr><td>10    </td><td>0.5000</td><td>13.50 </td><td>0.00  </td><td> 0.31 </td><td>18.41 </td><td>81.28 </td><td>RF    </td></tr>\n",
       "\t<tr><td>20    </td><td>0.0125</td><td>13.30 </td><td>0.00  </td><td> 0.74 </td><td>27.32 </td><td>71.94 </td><td>RF    </td></tr>\n",
       "</tbody>\n",
       "</table>\n"
      ],
      "text/latex": [
       "\\begin{tabular}{r|llllllll}\n",
       " ratio & M & pH & OH1 & OH2 & OH3 & OH4 & morph\\\\\n",
       "\\hline\n",
       "\t  2     & 0.2500 & 10.43  & 5.19   & 89.67  &  5.09  &  0.02  & SSF   \\\\\n",
       "\t  2     & 0.5000 & 10.37  & 4.46   & 91.05  &  4.44  &  0.02  & SSF   \\\\\n",
       "\t  4     & 0.2500 & 13.02  & 0.00   &  1.75  & 38.21  & 60.04  & OSF   \\\\\n",
       "\t  5     & 0.0700 & 12.98  & 0.00   &  2.34  & 42.14  & 55.52  & OSF   \\\\\n",
       "\t  8     & 0.2500 & 14.00  & 0.00   &  0.02  &  6.34  & 93.64  & RF    \\\\\n",
       "\t 10     & 0.2500 & 14.17  & 0.00   &  0.01  &  4.54  & 95.45  & R     \\\\\n",
       "\t 10     & 0.1000 & 13.78  & 0.00   &  0.08  &  9.81  & 90.11  & RF    \\\\\n",
       "\t 10     & 0.5000 & 13.50  & 0.00   &  0.31  & 18.41  & 81.28  & RF    \\\\\n",
       "\t 20     & 0.0125 & 13.30  & 0.00   &  0.74  & 27.32  & 71.94  & RF    \\\\\n",
       "\\end{tabular}\n"
      ],
      "text/markdown": [
       "\n",
       "ratio | M | pH | OH1 | OH2 | OH3 | OH4 | morph | \n",
       "|---|---|---|---|---|---|---|---|---|\n",
       "|  2     | 0.2500 | 10.43  | 5.19   | 89.67  |  5.09  |  0.02  | SSF    | \n",
       "|  2     | 0.5000 | 10.37  | 4.46   | 91.05  |  4.44  |  0.02  | SSF    | \n",
       "|  4     | 0.2500 | 13.02  | 0.00   |  1.75  | 38.21  | 60.04  | OSF    | \n",
       "|  5     | 0.0700 | 12.98  | 0.00   |  2.34  | 42.14  | 55.52  | OSF    | \n",
       "|  8     | 0.2500 | 14.00  | 0.00   |  0.02  |  6.34  | 93.64  | RF     | \n",
       "| 10     | 0.2500 | 14.17  | 0.00   |  0.01  |  4.54  | 95.45  | R      | \n",
       "| 10     | 0.1000 | 13.78  | 0.00   |  0.08  |  9.81  | 90.11  | RF     | \n",
       "| 10     | 0.5000 | 13.50  | 0.00   |  0.31  | 18.41  | 81.28  | RF     | \n",
       "| 20     | 0.0125 | 13.30  | 0.00   |  0.74  | 27.32  | 71.94  | RF     | \n",
       "\n",
       "\n"
      ],
      "text/plain": [
       "  ratio M      pH    OH1  OH2   OH3   OH4   morph\n",
       "1  2    0.2500 10.43 5.19 89.67  5.09  0.02 SSF  \n",
       "2  2    0.5000 10.37 4.46 91.05  4.44  0.02 SSF  \n",
       "3  4    0.2500 13.02 0.00  1.75 38.21 60.04 OSF  \n",
       "4  5    0.0700 12.98 0.00  2.34 42.14 55.52 OSF  \n",
       "5  8    0.2500 14.00 0.00  0.02  6.34 93.64 RF   \n",
       "6 10    0.2500 14.17 0.00  0.01  4.54 95.45 R    \n",
       "7 10    0.1000 13.78 0.00  0.08  9.81 90.11 RF   \n",
       "8 10    0.5000 13.50 0.00  0.31 18.41 81.28 RF   \n",
       "9 20    0.0125 13.30 0.00  0.74 27.32 71.94 RF   "
      ]
     },
     "metadata": {},
     "output_type": "display_data"
    }
   ],
   "source": [
    "df"
   ]
  },
  {
   "cell_type": "code",
   "execution_count": 97,
   "metadata": {},
   "outputs": [
    {
     "data": {
      "text/plain": [
       "     ratio              M                pH             OH1       \n",
       " Min.   : 2.000   Min.   :0.0125   Min.   :10.37   Min.   :0.000  \n",
       " 1st Qu.: 4.000   1st Qu.:0.1000   1st Qu.:12.98   1st Qu.:0.000  \n",
       " Median : 8.000   Median :0.2500   Median :13.30   Median :0.000  \n",
       " Mean   : 7.889   Mean   :0.2425   Mean   :12.84   Mean   :1.072  \n",
       " 3rd Qu.:10.000   3rd Qu.:0.2500   3rd Qu.:13.78   3rd Qu.:0.000  \n",
       " Max.   :20.000   Max.   :0.5000   Max.   :14.17   Max.   :5.190  \n",
       "      OH2             OH3             OH4        morph  \n",
       " Min.   : 0.01   Min.   : 4.44   Min.   : 0.02   OSF:2  \n",
       " 1st Qu.: 0.08   1st Qu.: 5.09   1st Qu.:55.52   R  :1  \n",
       " Median : 0.74   Median : 9.81   Median :71.94   RF :4  \n",
       " Mean   :20.66   Mean   :17.37   Mean   :60.89   SSF:2  \n",
       " 3rd Qu.: 2.34   3rd Qu.:27.32   3rd Qu.:90.11          \n",
       " Max.   :91.05   Max.   :42.14   Max.   :95.45          "
      ]
     },
     "metadata": {},
     "output_type": "display_data"
    }
   ],
   "source": [
    "summary(df)"
   ]
  },
  {
   "cell_type": "code",
   "execution_count": 173,
   "metadata": {},
   "outputs": [
    {
     "name": "stdout",
     "output_type": "stream",
     "text": [
      "Observations: 9\n",
      "Variables: 8\n",
      "$ ratio <dbl> 1, 1, 2, 3, 4, 5, 5, 5, 6\n",
      "$ M     <dbl> 0.2500, 0.5000, 0.2500, 0.0700, 0.2500, 0.2500, 0.1000, 0.500...\n",
      "$ pH    <dbl> 10.43, 10.37, 13.02, 12.98, 14.00, 14.17, 13.78, 13.50, 13.30\n",
      "$ OH1   <dbl> 5.19, 4.46, 0.00, 0.00, 0.00, 0.00, 0.00, 0.00, 0.00\n",
      "$ OH2   <dbl> 89.67, 91.05, 1.75, 2.34, 0.02, 0.01, 0.08, 0.31, 0.74\n",
      "$ OH3   <dbl> 5.09, 4.44, 38.21, 42.14, 6.34, 4.54, 9.81, 18.41, 27.32\n",
      "$ OH4   <dbl> 0.02, 0.02, 60.04, 55.52, 93.64, 95.45, 90.11, 81.28, 71.94\n",
      "$ morph <fctr> SSF, SSF, OSF, OSF, RF, R, RF, RF, RF\n"
     ]
    }
   ],
   "source": [
    "glimpse(df)"
   ]
  },
  {
   "cell_type": "code",
   "execution_count": 98,
   "metadata": {},
   "outputs": [
    {
     "data": {
      "image/png": "[encoded data removed]",
      "text/plain": [
       "plot without title"
      ]
     },
     "metadata": {},
     "output_type": "display_data"
    }
   ],
   "source": [
    "plot(df)"
   ]
  },
  {
   "cell_type": "code",
   "execution_count": 99,
   "metadata": {},
   "outputs": [
    {
     "data": {
      "text/html": [
       "<ol class=list-inline>\n",
       "\t<li>'ratio'</li>\n",
       "\t<li>'M'</li>\n",
       "\t<li>'pH'</li>\n",
       "\t<li>'OH1'</li>\n",
       "\t<li>'OH2'</li>\n",
       "\t<li>'OH3'</li>\n",
       "\t<li>'OH4'</li>\n",
       "\t<li>'morph'</li>\n",
       "</ol>\n"
      ],
      "text/latex": [
       "\\begin{enumerate*}\n",
       "\\item 'ratio'\n",
       "\\item 'M'\n",
       "\\item 'pH'\n",
       "\\item 'OH1'\n",
       "\\item 'OH2'\n",
       "\\item 'OH3'\n",
       "\\item 'OH4'\n",
       "\\item 'morph'\n",
       "\\end{enumerate*}\n"
      ],
      "text/markdown": [
       "1. 'ratio'\n",
       "2. 'M'\n",
       "3. 'pH'\n",
       "4. 'OH1'\n",
       "5. 'OH2'\n",
       "6. 'OH3'\n",
       "7. 'OH4'\n",
       "8. 'morph'\n",
       "\n",
       "\n"
      ],
      "text/plain": [
       "[1] \"ratio\" \"M\"     \"pH\"    \"OH1\"   \"OH2\"   \"OH3\"   \"OH4\"   \"morph\""
      ]
     },
     "metadata": {},
     "output_type": "display_data"
    }
   ],
   "source": [
    "names(df)"
   ]
  },
  {
   "cell_type": "code",
   "execution_count": 163,
   "metadata": {},
   "outputs": [],
   "source": [
    "model1 <- rpart(morph ~ ., method = \"anova\", data = df,control=rpart.control(minsplit = 1,minbucket=1, cp=0.01))"
   ]
  },
  {
   "cell_type": "code",
   "execution_count": 164,
   "metadata": {
    "scrolled": false
   },
   "outputs": [
    {
     "name": "stdout",
     "output_type": "stream",
     "text": [
      "Call:\n",
      "rpart(formula = morph ~ ., data = df, method = \"anova\", control = rpart.control(minsplit = 1, \n",
      "    minbucket = 1, cp = 0.01))\n",
      "  n= 9 \n",
      "\n",
      "         CP nsplit rel error    xerror       xstd\n",
      "1 0.7142857      0 1.0000000 1.2656250 0.41763494\n",
      "2 0.2057143      1 0.2857143 0.3888889 0.18663323\n",
      "3 0.0800000      2 0.0800000 0.1250000 0.09176131\n",
      "4 0.0100000      3 0.0000000 0.2000000 0.12472191\n",
      "\n",
      "Variable importance\n",
      "  OH3    pH   OH1   OH2   OH4 ratio \n",
      "   42    15    11    11    11    11 \n",
      "\n",
      "Node number 1: 9 observations,    complexity param=0.7142857\n",
      "  mean=2.666667, MSE=1.111111 \n",
      "  left son=2 (2 obs) right son=3 (7 obs)\n",
      "  Primary splits:\n",
      "      OH3   < 32.765 to the right, improve=0.7142857, (0 missing)\n",
      "      ratio < 1.5    to the right, improve=0.4571429, (0 missing)\n",
      "      pH    < 11.705 to the right, improve=0.4571429, (0 missing)\n",
      "      OH4   < 27.77  to the right, improve=0.4571429, (0 missing)\n",
      "      OH1   < 2.23   to the left,  improve=0.4571429, (0 missing)\n",
      "\n",
      "Node number 2: 2 observations\n",
      "  mean=1, MSE=0 \n",
      "\n",
      "Node number 3: 7 observations,    complexity param=0.2057143\n",
      "  mean=3.142857, MSE=0.4081633 \n",
      "  left son=6 (5 obs) right son=7 (2 obs)\n",
      "  Primary splits:\n",
      "      ratio < 2.5    to the right, improve=0.72, (0 missing)\n",
      "      pH    < 11.865 to the right, improve=0.72, (0 missing)\n",
      "      OH4   < 35.98  to the right, improve=0.72, (0 missing)\n",
      "      OH1   < 2.23   to the left,  improve=0.72, (0 missing)\n",
      "      OH2   < 45.205 to the left,  improve=0.72, (0 missing)\n",
      "  Surrogate splits:\n",
      "      pH  < 11.865 to the right, agree=1.000, adj=1.0, (0 split)\n",
      "      OH1 < 2.23   to the left,  agree=1.000, adj=1.0, (0 split)\n",
      "      OH2 < 45.205 to the left,  agree=1.000, adj=1.0, (0 split)\n",
      "      OH4 < 35.98  to the right, agree=1.000, adj=1.0, (0 split)\n",
      "      OH3 < 5.715  to the right, agree=0.857, adj=0.5, (0 split)\n",
      "\n",
      "Node number 6: 5 observations,    complexity param=0.08\n",
      "  mean=2.8, MSE=0.16 \n",
      "  left son=12 (1 obs) right son=13 (4 obs)\n",
      "  Primary splits:\n",
      "      pH  < 14.085 to the right, improve=1.0000000, (0 missing)\n",
      "      OH4 < 94.545 to the right, improve=1.0000000, (0 missing)\n",
      "      OH2 < 0.015  to the left,  improve=1.0000000, (0 missing)\n",
      "      OH3 < 5.44   to the left,  improve=1.0000000, (0 missing)\n",
      "      M   < 0.175  to the right, improve=0.1666667, (0 missing)\n",
      "\n",
      "Node number 7: 2 observations\n",
      "  mean=4, MSE=0 \n",
      "\n",
      "Node number 12: 1 observations\n",
      "  mean=2, MSE=0 \n",
      "\n",
      "Node number 13: 4 observations\n",
      "  mean=3, MSE=0 \n",
      "\n"
     ]
    }
   ],
   "source": [
    "summary(model1)"
   ]
  },
  {
   "cell_type": "code",
   "execution_count": 179,
   "metadata": {
    "scrolled": false
   },
   "outputs": [
    {
     "data": {
      "image/png": "[encoded data removed]",
      "text/plain": [
       "plot without title"
      ]
     },
     "metadata": {},
     "output_type": "display_data"
    }
   ],
   "source": [
    "prp(model1)"
   ]
  },
  {
   "cell_type": "code",
   "execution_count": 174,
   "metadata": {},
   "outputs": [
    {
     "data": {
      "text/html": [
       "<ol class=list-inline>\n",
       "\t<li>'OSF'</li>\n",
       "\t<li>'R'</li>\n",
       "\t<li>'RF'</li>\n",
       "\t<li>'SSF'</li>\n",
       "</ol>\n"
      ],
      "text/latex": [
       "\\begin{enumerate*}\n",
       "\\item 'OSF'\n",
       "\\item 'R'\n",
       "\\item 'RF'\n",
       "\\item 'SSF'\n",
       "\\end{enumerate*}\n"
      ],
      "text/markdown": [
       "1. 'OSF'\n",
       "2. 'R'\n",
       "3. 'RF'\n",
       "4. 'SSF'\n",
       "\n",
       "\n"
      ],
      "text/plain": [
       "[1] \"OSF\" \"R\"   \"RF\"  \"SSF\""
      ]
     },
     "metadata": {},
     "output_type": "display_data"
    }
   ],
   "source": [
    "levels(df$morph)"
   ]
  },
  {
   "cell_type": "code",
   "execution_count": 177,
   "metadata": {
    "scrolled": true
   },
   "outputs": [],
   "source": [
    "model2 <- rpart(morph ~ ., method = \"class\", data = df,control=rpart.control(minsplit = 1,minbucket=1, cp=0.01))"
   ]
  },
  {
   "cell_type": "code",
   "execution_count": 178,
   "metadata": {},
   "outputs": [
    {
     "data": {
      "image/png": "[encoded data removed]",
      "text/plain": [
       "plot without title"
      ]
     },
     "metadata": {},
     "output_type": "display_data"
    }
   ],
   "source": [
    "prp(model2)"
   ]
  },
  {
   "cell_type": "code",
   "execution_count": null,
   "metadata": {
    "collapsed": true
   },
   "outputs": [],
   "source": []
  }
 ],
 "metadata": {
  "kernelspec": {
   "display_name": "R",
   "language": "R",
   "name": "ir"
  },
  "language_info": {
   "codemirror_mode": "r",
   "file_extension": ".r",
   "mimetype": "text/x-r-source",
   "name": "R",
   "pygments_lexer": "r",
   "version": "3.4.1"
  }
 },
 "nbformat": 4,
 "nbformat_minor": 2
}
